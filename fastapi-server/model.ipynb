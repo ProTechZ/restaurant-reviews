{
 "cells": [
  {
   "cell_type": "code",
   "execution_count": 54,
   "metadata": {},
   "outputs": [],
   "source": [
    "#remove punctuation, word tokenisation, POS tagging, stopwords, lemmatisation, count vecoisation, split, "
   ]
  },
  {
   "cell_type": "code",
   "execution_count": 55,
   "metadata": {},
   "outputs": [],
   "source": [
    "import numpy as np\n",
    "import pandas as pd"
   ]
  },
  {
   "cell_type": "code",
   "execution_count": 56,
   "metadata": {},
   "outputs": [
    {
     "name": "stderr",
     "output_type": "stream",
     "text": [
      "[nltk_data] Downloading package punkt to\n",
      "[nltk_data]     C:\\Users\\sheeb_gztgpqt\\AppData\\Roaming\\nltk_data...\n",
      "[nltk_data]   Package punkt is already up-to-date!\n",
      "[nltk_data] Downloading package punkt_tab to\n",
      "[nltk_data]     C:\\Users\\sheeb_gztgpqt\\AppData\\Roaming\\nltk_data...\n",
      "[nltk_data]   Package punkt_tab is already up-to-date!\n",
      "[nltk_data] Downloading package averaged_perceptron_tagger_eng to\n",
      "[nltk_data]     C:\\Users\\sheeb_gztgpqt\\AppData\\Roaming\\nltk_data...\n",
      "[nltk_data]   Package averaged_perceptron_tagger_eng is already up-to-\n",
      "[nltk_data]       date!\n",
      "[nltk_data] Downloading package stopwords to\n",
      "[nltk_data]     C:\\Users\\sheeb_gztgpqt\\AppData\\Roaming\\nltk_data...\n",
      "[nltk_data]   Package stopwords is already up-to-date!\n",
      "[nltk_data] Downloading package wordnet to\n",
      "[nltk_data]     C:\\Users\\sheeb_gztgpqt\\AppData\\Roaming\\nltk_data...\n",
      "[nltk_data]   Package wordnet is already up-to-date!\n"
     ]
    },
    {
     "data": {
      "text/plain": [
       "True"
      ]
     },
     "execution_count": 56,
     "metadata": {},
     "output_type": "execute_result"
    }
   ],
   "source": [
    "import nltk\n",
    "\n",
    "nltk.download('punkt')\n",
    "nltk.download('punkt_tab')\n",
    "nltk.download('averaged_perceptron_tagger_eng')\n",
    "nltk.download('stopwords')\n",
    "nltk.download('wordnet')"
   ]
  },
  {
   "cell_type": "code",
   "execution_count": 57,
   "metadata": {},
   "outputs": [],
   "source": [
    "dataset = pd.read_csv('../data/reviews.csv')\n",
    "\n",
    "reviews = dataset['review'].values\n",
    "labels = dataset['liked'].values"
   ]
  },
  {
   "cell_type": "code",
   "execution_count": 58,
   "metadata": {},
   "outputs": [],
   "source": [
    "def pos_to_wordnet(tag):\n",
    "  if tag.startswith('J'):\n",
    "       return 'a' \n",
    "  elif tag.startswith('V'):\n",
    "      return 'v'  \n",
    "  elif tag.startswith('N'):\n",
    "      return 'n' \n",
    "  elif tag.startswith('R'):  \n",
    "        return 'r'\n",
    "  else:\n",
    "      return 'n'"
   ]
  },
  {
   "cell_type": "code",
   "execution_count": 62,
   "metadata": {},
   "outputs": [],
   "source": [
    "import string\n",
    "from nltk.corpus import stopwords\n",
    "from nltk.stem import WordNetLemmatizer\n",
    "\n",
    "lemmatiser = WordNetLemmatizer()\n",
    "\n",
    "processed = []\n",
    "stop_words = stopwords.words('english')\n",
    "stop_words.remove('not')\n",
    "stop_words.remove('no')\n",
    "\n",
    "for review in reviews:\n",
    "  stripped = review.translate(str.maketrans('', '', string.punctuation))\n",
    "  low = stripped.lower()\n",
    "  \n",
    "  tokens = nltk.word_tokenize(low)  # word tokenisation\n",
    "\n",
    "  tagged_tokens = nltk.pos_tag(tokens)  # POS tagging\n",
    "  \n",
    "  # removing all stopwords\n",
    "  clean = [(word, pos) for word, pos in tagged_tokens if word not in stop_words ]\n",
    "\n",
    "  # convert words into their base words\n",
    "  lemmatised = [lemmatiser.lemmatize(word, pos=pos_to_wordnet(pos))  for word, pos in clean]\n",
    "\n",
    "  processed.append(' '.join(lemmatised))\n"
   ]
  }
 ],
 "metadata": {
  "kernelspec": {
   "display_name": "fastapi-server",
   "language": "python",
   "name": "fastapi-server"
  },
  "language_info": {
   "codemirror_mode": {
    "name": "ipython",
    "version": 3
   },
   "file_extension": ".py",
   "mimetype": "text/x-python",
   "name": "python",
   "nbconvert_exporter": "python",
   "pygments_lexer": "ipython3",
   "version": "3.12.3"
  }
 },
 "nbformat": 4,
 "nbformat_minor": 2
}
